{
 "cells": [
  {
   "cell_type": "code",
   "execution_count": null,
   "metadata": {},
   "outputs": [],
   "source": [
    "import os \n",
    "test_folder_path = \"data_video_sau\\\\v9\\\\test_rename\\\\images\"\n",
    "file_test_list =  os.listdir(test_folder_path)\n",
    "len(file_test_list)\n",
    "root_folder = \"data_video_sau\\\\v9\\\\test_rename\"\n",
    "for index, file_name_image in enumerate(file_test_list):\n",
    "    # file_name_image = \"30_jpg.rf.ad5698f68bd90c711d5643955d7d2f95.jpg\"\n",
    "    file_name_label = file_name_image.replace(\".jpg\", \".txt\")\n",
    "    file_name_image_path = os.path.join(root_folder,\"images\",file_name_image)\n",
    "    file_name_label_path = os.path.join(root_folder,\"labels\",file_name_label)\n",
    "\n",
    "    \n",
    "    with open(file_name_label_path, \"r\") as f:\n",
    "        line = f.read()\n",
    "        line = int(line.split(\" \")[0])\n",
    "\n",
    "    file_name_new_image = f\"test_after_{line}___{index}.jpg\"\n",
    "    file_name_new_label = file_name_new_image.replace(\".jpg\", \".txt\")\n",
    "    file_name_new_image_path = os.path.join(root_folder,\"images\",file_name_new_image)\n",
    "    file_name_new_label_path = os.path.join(root_folder,\"labels\",file_name_new_label)\n",
    "\n",
    "    os.rename(file_name_image_path, file_name_new_image_path)\n",
    "    os.rename(file_name_label_path, file_name_new_label_path)"
   ]
  },
  {
   "cell_type": "markdown",
   "metadata": {},
   "source": [
    "# Di chuyển và đổi tên file \n"
   ]
  },
  {
   "cell_type": "markdown",
   "metadata": {},
   "source": [
    "## Di chuyển file \n"
   ]
  },
  {
   "cell_type": "code",
   "execution_count": 4,
   "metadata": {},
   "outputs": [],
   "source": [
    "root_data =  \"Roboflow\\\\v9\"\n",
    "root_new = \"Data_XA_sorted\\v9\"\n",
    "\n",
    "folder = \"train\"\n",
    "root_data = os.path.join(root_data, folder)\n",
    "root_new = os.path.join(root_new, folder)\n"
   ]
  },
  {
   "cell_type": "code",
   "execution_count": null,
   "metadata": {},
   "outputs": [],
   "source": [
    "# đi vào đọc từng file \n",
    "# tạo thư mục nếu chưa có || đồng thời tạo thư mục image,labels theo tên nếu chưa xuất hiện \n",
    "# mình tạo thư mục ảnh thì thư mục label cũng tương tự \n",
    "\n",
    "\n"
   ]
  }
 ],
 "metadata": {
  "interpreter": {
   "hash": "1baa965d5efe3ac65b79dfc60c0d706280b1da80fedb7760faf2759126c4f253"
  },
  "kernelspec": {
   "display_name": "Python 3.8.2 64-bit",
   "language": "python",
   "name": "python3"
  },
  "language_info": {
   "codemirror_mode": {
    "name": "ipython",
    "version": 3
   },
   "file_extension": ".py",
   "mimetype": "text/x-python",
   "name": "python",
   "nbconvert_exporter": "python",
   "pygments_lexer": "ipython3",
   "version": "3.8.2"
  },
  "orig_nbformat": 4
 },
 "nbformat": 4,
 "nbformat_minor": 2
}
