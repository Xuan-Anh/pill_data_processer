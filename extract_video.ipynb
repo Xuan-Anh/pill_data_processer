{
 "cells": [
  {
   "cell_type": "code",
   "execution_count": 11,
   "metadata": {},
   "outputs": [],
   "source": [
    "import os\n",
    "import numpy as np\n",
    "import cv2\n",
    "from glob import glob"
   ]
  },
  {
   "cell_type": "code",
   "execution_count": 12,
   "metadata": {},
   "outputs": [],
   "source": [
    "def get_image(video_path, save_dir, frame_rate = 3):\n",
    "    # video_path = \"DATA_VIDEO\\\\2022-04-11-02-28-06-216.mp4\"\n",
    "    \n",
    "    \n",
    "    \n",
    "    cap = cv2.VideoCapture(video_path)\n",
    "    \n",
    "    idx = 0\n",
    "    while True :\n",
    "        ret, frame = cap.read()\n",
    "        idx += 1\n",
    "        if idx % frame_rate == 0:    \n",
    "            if ret == False:\n",
    "                cap.release()\n",
    "                break\n",
    "            cv2.imwrite(os.path.join(save_dir, \\\n",
    "            video_path.split(\"\\\\\")[-1].split(\".\")[0], str(idx)+\".jpg\"), frame)\n",
    "    "
   ]
  },
  {
   "cell_type": "code",
   "execution_count": 13,
   "metadata": {},
   "outputs": [
    {
     "name": "stdout",
     "output_type": "stream",
     "text": [
      "['VID_20220414_222135.mp4', 'VID_20220414_223355.mp4', 'VID_20220414_223521.mp4', 'VID_20220415_215003.mp4', 'VID_20220415_215203.mp4', 'VID_20220415_215339.mp4', 'VID_20220415_215525.mp4', 'VID_20220415_215704.mp4', 'VID_20220415_215904.mp4', 'VID_20220415_220022.mp4', 'VID_20220415_220225.mp4', 'VID_20220415_220414.mp4', 'VID_20220415_221013.mp4', 'VID_20220415_221256.mp4', 'VID_20220415_223131.mp4', 'VID_20220415_224323.mp4', 'VID_20220415_224501.mp4', 'VID_20220415_232215.mp4', 'VID_20220415_232519.mp4', 'VID_20220415_233523.mp4', 'VID_20220415_233754.mp4', 'VID_20220415_233927.mp4', 'VID_20220415_234108.mp4', 'VID_20220415_234234.mp4', 'VID_20220415_234414.mp4', 'VID_20220416_101001.mp4', 'VID_20220416_101223.mp4', 'VID_20220416_101409.mp4', 'VID_20220416_101518.mp4', 'VID_20220416_102549.mp4', 'VID_20220416_102801.mp4', 'VID_20220416_102954.mp4', 'VID_20220416_104451.mp4', 'VID_20220416_104642.mp4', 'VID_20220416_104921.mp4', 'VID_20220416_105448.mp4', 'VID_20220416_110827.mp4', 'VID_20220416_111151.mp4', 'VID_20220416_111553.mp4', 'VID_20220416_111906.mp4', 'VID_20220416_112318.mp4', 'VID_20220416_112531.mp4', 'VID_20220416_112949.mp4', 'VID_20220416_113237.mp4', 'VID_20220416_113805.mp4', 'VID_20220416_114022.mp4', 'VID_20220416_114407.mp4', 'VID_20220416_114826.mp4', 'VID_20220416_115203.mp4', 'VID_20220416_120543.mp4', 'VID_20220416_121859.mp4', 'VID_20220416_122520.mp4', 'VID_20220416_122736.mp4', 'VID_20220416_123047.mp4', 'VID_20220416_123133.mp4', 'VID_20220416_123258.mp4', 'VID_20220416_123520.mp4', 'VID_20220416_123716.mp4', 'VID_20220416_123936.mp4', 'VID_20220416_124140.mp4', 'VID_20220416_125053.mp4', 'VID_20220416_235856.mp4']\n"
     ]
    }
   ],
   "source": [
    "root_dir = \"data_video_sau/data_video_2\"\n",
    "\n",
    "video_name_list = os.listdir(root_dir)\n",
    "\n",
    "print(video_name_list)\n",
    "\n",
    "save_dir = \"DATA_IMAGE/data_video_2\"\n",
    "\n",
    "for video_name in video_name_list:\n",
    "    folder_path = os.path.join(save_dir, video_name.split(\".\")[0])\n",
    "    if not os.path.exists(folder_path):\n",
    "        os.makedirs(folder_path)\n",
    "    video_path = os.path.join(root_dir, video_name)\n",
    "    get_image(video_path, save_dir, frame_rate = 10)"
   ]
  },
  {
   "cell_type": "code",
   "execution_count": null,
   "metadata": {},
   "outputs": [],
   "source": []
  }
 ],
 "metadata": {
  "interpreter": {
   "hash": "1baa965d5efe3ac65b79dfc60c0d706280b1da80fedb7760faf2759126c4f253"
  },
  "kernelspec": {
   "display_name": "Python 3.8.2 64-bit",
   "language": "python",
   "name": "python3"
  },
  "language_info": {
   "codemirror_mode": {
    "name": "ipython",
    "version": 3
   },
   "file_extension": ".py",
   "mimetype": "text/x-python",
   "name": "python",
   "nbconvert_exporter": "python",
   "pygments_lexer": "ipython3",
   "version": "3.8.2"
  },
  "orig_nbformat": 4
 },
 "nbformat": 4,
 "nbformat_minor": 2
}
