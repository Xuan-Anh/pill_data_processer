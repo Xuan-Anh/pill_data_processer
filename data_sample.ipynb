{
 "cells": [
  {
   "cell_type": "code",
   "execution_count": 10,
   "metadata": {},
   "outputs": [],
   "source": [
    "import os\n",
    "import random\n",
    "path_root = \"DATA_IMAGE\\data_video_2\"\n",
    "# copy  10 file in each folder to data_sample\n",
    "folder_name_list   = os.listdir(path_root)\n",
    "def get_random_10_file_in_folder(folder_root):\n",
    "    file_list = os.listdir(folder_root)\n",
    "    # print(\"##############################\")\n",
    "    # print(file_list)\n",
    "    random_10_file_list = []\n",
    "    for i in range(10):\n",
    "        random_10_file_list.append(file_list[random.randint(0,len(file_list)-1)])\n",
    "    # print(\"****************\")\n",
    "    # print(random_10_file_list)\n",
    "    return random_10_file_list\n",
    "for i in range(3):\n",
    "    folder_name = folder_name_list[i]\n",
    "    folder_path = os.path.join(path_root, folder_name)\n",
    "    get_random_10_file_in_folder(folder_path)"
   ]
  },
  {
   "cell_type": "code",
   "execution_count": 16,
   "metadata": {},
   "outputs": [],
   "source": [
    "import shutil\n",
    "for folder_name in folder_name_list[:40]:\n",
    "    folder_path = os.path.join(path_root, folder_name)\n",
    "    radom_file_copy =  get_random_10_file_in_folder(folder_path)\n",
    "    \n",
    "    folder_copy_path = os.path.join(\"DATA_IMAGE\\data_sample\", folder_name)\n",
    "    if not os.path.exists(folder_copy_path):\n",
    "        os.mkdir(folder_copy_path)\n",
    "    for file_name in radom_file_copy:\n",
    "        file_path = os.path.join(folder_path, file_name)\n",
    "        file_copy_path = os.path.join(folder_copy_path, file_name)\n",
    "        shutil.copy(file_path, file_copy_path)\n",
    "    \n"
   ]
  },
  {
   "cell_type": "code",
   "execution_count": null,
   "metadata": {},
   "outputs": [],
   "source": []
  },
  {
   "cell_type": "code",
   "execution_count": null,
   "metadata": {},
   "outputs": [],
   "source": []
  }
 ],
 "metadata": {
  "interpreter": {
   "hash": "1baa965d5efe3ac65b79dfc60c0d706280b1da80fedb7760faf2759126c4f253"
  },
  "kernelspec": {
   "display_name": "Python 3.8.2 64-bit",
   "language": "python",
   "name": "python3"
  },
  "language_info": {
   "codemirror_mode": {
    "name": "ipython",
    "version": 3
   },
   "file_extension": ".py",
   "mimetype": "text/x-python",
   "name": "python",
   "nbconvert_exporter": "python",
   "pygments_lexer": "ipython3",
   "version": "3.8.2"
  },
  "orig_nbformat": 4
 },
 "nbformat": 4,
 "nbformat_minor": 2
}
